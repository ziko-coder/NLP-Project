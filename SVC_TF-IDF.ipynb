{
 "cells": [
  {
   "cell_type": "code",
   "execution_count": 1,
   "id": "916a9358",
   "metadata": {
    "ExecuteTime": {
     "end_time": "2023-11-09T11:23:24.332575100Z",
     "start_time": "2023-11-09T11:23:20.946300300Z"
    }
   },
   "outputs": [],
   "source": [
    "import pandas as pd\n",
    "import matplotlib.pyplot as plt\n",
    "%matplotlib inline\n",
    "import seaborn as sns\n",
    "import nltk\n",
    "from nltk.corpus import stopwords\n",
    "from nltk.stem import *\n",
    "from sklearn.feature_extraction.text import TfidfVectorizer"
   ]
  },
  {
   "cell_type": "markdown",
   "id": "a2151ee6",
   "metadata": {},
   "source": [
    "# Data Overview"
   ]
  },
  {
   "cell_type": "code",
   "execution_count": 2,
   "id": "c431922c",
   "metadata": {},
   "outputs": [],
   "source": [
    "df = pd.read_csv(\"Suicide_Detection.csv\")"
   ]
  },
  {
   "cell_type": "code",
   "execution_count": 3,
   "id": "a92ab367",
   "metadata": {},
   "outputs": [
    {
     "name": "stdout",
     "output_type": "stream",
     "text": [
      "<class 'pandas.core.frame.DataFrame'>\n",
      "RangeIndex: 232074 entries, 0 to 232073\n",
      "Data columns (total 3 columns):\n",
      " #   Column      Non-Null Count   Dtype \n",
      "---  ------      --------------   ----- \n",
      " 0   Unnamed: 0  232074 non-null  int64 \n",
      " 1   text        232074 non-null  object\n",
      " 2   class       232074 non-null  object\n",
      "dtypes: int64(1), object(2)\n",
      "memory usage: 5.3+ MB\n"
     ]
    }
   ],
   "source": [
    "df.info()"
   ]
  },
  {
   "cell_type": "code",
   "execution_count": 4,
   "id": "839c0a6a",
   "metadata": {},
   "outputs": [
    {
     "data": {
      "text/html": [
       "<div>\n",
       "<style scoped>\n",
       "    .dataframe tbody tr th:only-of-type {\n",
       "        vertical-align: middle;\n",
       "    }\n",
       "\n",
       "    .dataframe tbody tr th {\n",
       "        vertical-align: top;\n",
       "    }\n",
       "\n",
       "    .dataframe thead th {\n",
       "        text-align: right;\n",
       "    }\n",
       "</style>\n",
       "<table border=\"1\" class=\"dataframe\">\n",
       "  <thead>\n",
       "    <tr style=\"text-align: right;\">\n",
       "      <th></th>\n",
       "      <th>Unnamed: 0</th>\n",
       "      <th>text</th>\n",
       "      <th>class</th>\n",
       "    </tr>\n",
       "  </thead>\n",
       "  <tbody>\n",
       "    <tr>\n",
       "      <th>0</th>\n",
       "      <td>2</td>\n",
       "      <td>Ex Wife Threatening SuicideRecently I left my ...</td>\n",
       "      <td>suicide</td>\n",
       "    </tr>\n",
       "    <tr>\n",
       "      <th>1</th>\n",
       "      <td>3</td>\n",
       "      <td>Am I weird I don't get affected by compliments...</td>\n",
       "      <td>non-suicide</td>\n",
       "    </tr>\n",
       "    <tr>\n",
       "      <th>2</th>\n",
       "      <td>4</td>\n",
       "      <td>Finally 2020 is almost over... So I can never ...</td>\n",
       "      <td>non-suicide</td>\n",
       "    </tr>\n",
       "    <tr>\n",
       "      <th>3</th>\n",
       "      <td>8</td>\n",
       "      <td>i need helpjust help me im crying so hard</td>\n",
       "      <td>suicide</td>\n",
       "    </tr>\n",
       "    <tr>\n",
       "      <th>4</th>\n",
       "      <td>9</td>\n",
       "      <td>I’m so lostHello, my name is Adam (16) and I’v...</td>\n",
       "      <td>suicide</td>\n",
       "    </tr>\n",
       "  </tbody>\n",
       "</table>\n",
       "</div>"
      ],
      "text/plain": [
       "   Unnamed: 0                                               text        class\n",
       "0           2  Ex Wife Threatening SuicideRecently I left my ...      suicide\n",
       "1           3  Am I weird I don't get affected by compliments...  non-suicide\n",
       "2           4  Finally 2020 is almost over... So I can never ...  non-suicide\n",
       "3           8          i need helpjust help me im crying so hard      suicide\n",
       "4           9  I’m so lostHello, my name is Adam (16) and I’v...      suicide"
      ]
     },
     "execution_count": 4,
     "metadata": {},
     "output_type": "execute_result"
    }
   ],
   "source": [
    "df.head()"
   ]
  },
  {
   "cell_type": "code",
   "execution_count": 5,
   "id": "c99416e0",
   "metadata": {},
   "outputs": [],
   "source": [
    "df = df.sample(n=9000, random_state=42) "
   ]
  },
  {
   "cell_type": "code",
   "execution_count": 6,
   "id": "6b650ac0",
   "metadata": {},
   "outputs": [],
   "source": [
    "df.drop(columns = 'Unnamed: 0',inplace=True)"
   ]
  },
  {
   "cell_type": "code",
   "execution_count": 7,
   "id": "2d5e1c78",
   "metadata": {},
   "outputs": [
    {
     "data": {
      "text/plain": [
       "text     0\n",
       "class    0\n",
       "dtype: int64"
      ]
     },
     "execution_count": 7,
     "metadata": {},
     "output_type": "execute_result"
    }
   ],
   "source": [
    "df.isnull().sum()"
   ]
  },
  {
   "cell_type": "code",
   "execution_count": 8,
   "id": "3d778d23",
   "metadata": {},
   "outputs": [
    {
     "data": {
      "text/plain": [
       "0"
      ]
     },
     "execution_count": 8,
     "metadata": {},
     "output_type": "execute_result"
    }
   ],
   "source": [
    "df.duplicated().sum()"
   ]
  },
  {
   "cell_type": "code",
   "execution_count": 9,
   "id": "e3c93bb9",
   "metadata": {},
   "outputs": [
    {
     "name": "stdout",
     "output_type": "stream",
     "text": [
      "non-suicide    4548\n",
      "suicide        4452\n",
      "Name: class, dtype: int64\n"
     ]
    }
   ],
   "source": [
    "classCnt = df['class'].value_counts()\n",
    "print(classCnt)"
   ]
  },
  {
   "cell_type": "markdown",
   "id": "ac5328e2",
   "metadata": {},
   "source": [
    "# Pre Processing\n"
   ]
  },
  {
   "cell_type": "markdown",
   "id": "2281c1c4",
   "metadata": {},
   "source": [
    "## From Upper Case To Lower Case"
   ]
  },
  {
   "cell_type": "code",
   "execution_count": 10,
   "id": "cd9d263b",
   "metadata": {},
   "outputs": [],
   "source": [
    "df['text']= df['text'].str.lower() # to lower case"
   ]
  },
  {
   "cell_type": "markdown",
   "id": "e0f675d7",
   "metadata": {},
   "source": [
    "## Remove punctuation"
   ]
  },
  {
   "cell_type": "code",
   "execution_count": 11,
   "id": "4a5bbb18",
   "metadata": {},
   "outputs": [],
   "source": [
    "df['text'] = df['text'].str.replace(r'[^\\w\\s]+', '',regex = True) # remove any special characters or punctuation"
   ]
  },
  {
   "cell_type": "markdown",
   "id": "423154c2",
   "metadata": {},
   "source": [
    "The regular expression pattern [^\\w\\s]+ matches one or more occurrences of any character that is not a word character (i.e., a letter, digit, or underscore) or a whitespace character. The ^ character at the beginning of the pattern negates the character set, so that any character that does not match the set is replaced.\n",
    "\n",
    "The replacement value is an empty string, which effectively removes any non-word and non-space characters from the text.\n",
    "\n",
    "The regex=True parameter indicates that the regular expression pattern should be used for the replacement, rather than treating it as a plain string."
   ]
  },
  {
   "cell_type": "markdown",
   "id": "18c758e1",
   "metadata": {},
   "source": [
    "## Remove Stop Words"
   ]
  },
  {
   "cell_type": "code",
   "execution_count": 12,
   "id": "b70afc1c",
   "metadata": {},
   "outputs": [],
   "source": [
    "stop_words = stopwords.words('english') # remove stop words\n",
    "df['text'] = df['text'].apply(lambda x: ' '.join([word for word in x.split() if word not in (stop_words)]))\n"
   ]
  },
  {
   "cell_type": "markdown",
   "id": "feebb481",
   "metadata": {},
   "source": [
    "## Tokenization"
   ]
  },
  {
   "cell_type": "code",
   "execution_count": 13,
   "id": "4da158f4",
   "metadata": {},
   "outputs": [],
   "source": [
    "df['text'] = df['text'].apply(lambda x:nltk.word_tokenize(x)) # tokenization"
   ]
  },
  {
   "cell_type": "markdown",
   "id": "fd2419ea",
   "metadata": {},
   "source": [
    "## Stemming"
   ]
  },
  {
   "cell_type": "code",
   "execution_count": 14,
   "id": "322bd839",
   "metadata": {},
   "outputs": [],
   "source": [
    "ps = PorterStemmer() "
   ]
  },
  {
   "cell_type": "code",
   "execution_count": 15,
   "id": "97ed649e",
   "metadata": {},
   "outputs": [],
   "source": [
    "df['text'] = df['text'].apply(lambda x : [ps.stem(i) for i in x])\n",
    "df['text']=df['text'].apply(lambda x : ' '.join(x))"
   ]
  },
  {
   "cell_type": "markdown",
   "id": "19295b66",
   "metadata": {},
   "source": [
    "## Saving the cleaned dataset"
   ]
  },
  {
   "cell_type": "code",
   "execution_count": 16,
   "id": "19da9cec",
   "metadata": {},
   "outputs": [],
   "source": [
    "df.to_csv('file1.csv')"
   ]
  },
  {
   "cell_type": "code",
   "execution_count": 17,
   "id": "546d84d7",
   "metadata": {},
   "outputs": [
    {
     "name": "stdout",
     "output_type": "stream",
     "text": [
      "<class 'pandas.core.frame.DataFrame'>\n",
      "RangeIndex: 9000 entries, 0 to 8999\n",
      "Data columns (total 3 columns):\n",
      " #   Column      Non-Null Count  Dtype \n",
      "---  ------      --------------  ----- \n",
      " 0   Unnamed: 0  9000 non-null   int64 \n",
      " 1   text        8999 non-null   object\n",
      " 2   class       9000 non-null   object\n",
      "dtypes: int64(1), object(2)\n",
      "memory usage: 211.1+ KB\n"
     ]
    }
   ],
   "source": [
    "dfnew = pd.read_csv('file1.csv')\n",
    "dfnew.head()\n",
    "dfnew.info()"
   ]
  },
  {
   "cell_type": "code",
   "execution_count": 18,
   "id": "32c8e64d",
   "metadata": {},
   "outputs": [],
   "source": [
    "dfnew.dropna(inplace=True)"
   ]
  },
  {
   "cell_type": "code",
   "execution_count": 19,
   "id": "9bfd2151",
   "metadata": {},
   "outputs": [],
   "source": [
    "x,y = dfnew['text'],dfnew['class']"
   ]
  },
  {
   "cell_type": "markdown",
   "id": "91df9cf9",
   "metadata": {},
   "source": [
    "## TF-IDF Vectorization"
   ]
  },
  {
   "cell_type": "code",
   "execution_count": 20,
   "id": "ec09e133",
   "metadata": {},
   "outputs": [],
   "source": [
    "x,y = dfnew['text'],dfnew['class']\n",
    "vectorizer = TfidfVectorizer(min_df=50,max_features=5000)\n",
    "x =  vectorizer.fit_transform(x).toarray()"
   ]
  },
  {
   "cell_type": "markdown",
   "id": "90c8d190",
   "metadata": {},
   "source": [
    "## Saving the model"
   ]
  },
  {
   "cell_type": "code",
   "execution_count": 21,
   "id": "7dc3a1fe",
   "metadata": {},
   "outputs": [],
   "source": [
    "import pickle\n",
    "with open('tfidf.pkl', 'wb') as f:\n",
    "    pickle.dump(vectorizer, f) "
   ]
  },
  {
   "cell_type": "markdown",
   "id": "365dedb1",
   "metadata": {},
   "source": [
    "# Machine Learning"
   ]
  },
  {
   "cell_type": "markdown",
   "id": "1ecf3737",
   "metadata": {},
   "source": [
    "## Splitting data"
   ]
  },
  {
   "cell_type": "code",
   "execution_count": 22,
   "id": "535d2dde",
   "metadata": {},
   "outputs": [],
   "source": [
    "from sklearn.model_selection import train_test_split"
   ]
  },
  {
   "cell_type": "code",
   "execution_count": 23,
   "id": "77418797",
   "metadata": {},
   "outputs": [
    {
     "data": {
      "text/plain": [
       "((6299, 1244), (2700, 1244))"
      ]
     },
     "execution_count": 23,
     "metadata": {},
     "output_type": "execute_result"
    }
   ],
   "source": [
    "X_train,X_test,y_train,y_test = train_test_split(x,y,test_size=0.30,random_state=5)\n",
    "X_train.shape,X_test.shape"
   ]
  },
  {
   "cell_type": "markdown",
   "id": "21d78017",
   "metadata": {},
   "source": [
    "## Models"
   ]
  },
  {
   "cell_type": "markdown",
   "id": "256f7c3d",
   "metadata": {},
   "source": [
    "### 1"
   ]
  },
  {
   "cell_type": "code",
   "execution_count": 24,
   "id": "3231f032",
   "metadata": {},
   "outputs": [],
   "source": [
    "from sklearn.naive_bayes import GaussianNB\n",
    "from sklearn.naive_bayes import BernoulliNB\n",
    "from sklearn.naive_bayes import MultinomialNB\n",
    "from sklearn.ensemble import VotingClassifier"
   ]
  },
  {
   "cell_type": "markdown",
   "id": "244afd3d",
   "metadata": {},
   "source": [
    "The VotingClassifier is a meta-estimator in scikit-learn that combines multiple machine learning models to improve the overall prediction accuracy. It works by aggregating the predictions of multiple models and choosing the class that has the highest probability based on the combined output of these models.\n",
    "\n",
    "The VotingClassifier can be instantiated with several parameters, including:\n",
    "\n",
    "    *estimators: a list of tuples that define the individual models to include in the voting ensemble. Each tuple should contain a string identifier for the model and the instantiated model object itself.\n",
    "    *voting: the type of voting to use for combining the models' predictions. This can be one of three options: 'hard' (simple majority voting), 'soft' (weighted voting based on predicted probabilities), or 'uniform' (equal weight to all models).\n",
    "    *weights: a list of weights to assign to each model in the voting ensemble. This is only relevant when using 'soft' voting."
   ]
  },
  {
   "cell_type": "code",
   "execution_count": 25,
   "id": "963827a0",
   "metadata": {},
   "outputs": [],
   "source": [
    "nb = GaussianNB()\n",
    "nb2 = BernoulliNB()\n",
    "nb3 = MultinomialNB()"
   ]
  },
  {
   "cell_type": "code",
   "execution_count": 26,
   "id": "663de801",
   "metadata": {},
   "outputs": [
    {
     "name": "stdout",
     "output_type": "stream",
     "text": [
      "Training score: 0.9018891887601207\n",
      "Testing score: 0.87\n"
     ]
    }
   ],
   "source": [
    "VotingClassifiers = VotingClassifier(estimators=[('GaussianNB', nb),('BernoulliNB',nb2), ('MultinomialNB', nb3)], voting = 'soft')\n",
    "VotingClassifiers.fit(X_train, y_train)\n",
    "print('Training score:',VotingClassifiers.score(X_train, y_train))\n",
    "print('Testing score:',VotingClassifiers.score(X_test,y_test))"
   ]
  },
  {
   "cell_type": "code",
   "execution_count": 27,
   "id": "5566bbe2",
   "metadata": {
    "scrolled": false
   },
   "outputs": [
    {
     "name": "stdout",
     "output_type": "stream",
     "text": [
      "              precision    recall  f1-score   support\n",
      "\n",
      " non-suicide       0.87      0.87      0.87      1387\n",
      "     suicide       0.87      0.87      0.87      1313\n",
      "\n",
      "    accuracy                           0.87      2700\n",
      "   macro avg       0.87      0.87      0.87      2700\n",
      "weighted avg       0.87      0.87      0.87      2700\n"
     ]
    }
   ],
   "source": [
    "from sklearn.metrics import confusion_matrix\n",
    "from sklearn.metrics import classification_report\n",
    "\n",
    "y_act=y_test\n",
    "y_pred=VotingClassifiers.predict(X_test)\n",
    "print(classification_report(y_act,y_pred))"
   ]
  },
  {
   "cell_type": "markdown",
   "id": "2bdb441e",
   "metadata": {},
   "source": [
    "# 2"
   ]
  },
  {
   "cell_type": "code",
   "execution_count": 28,
   "id": "c69573ee",
   "metadata": {},
   "outputs": [],
   "source": [
    "from sklearn.svm import SVC\n",
    "from sklearn.metrics import classification_report"
   ]
  },
  {
   "cell_type": "code",
   "execution_count": 29,
   "id": "37390376",
   "metadata": {},
   "outputs": [],
   "source": [
    "svm = SVC()"
   ]
  },
  {
   "cell_type": "code",
   "execution_count": 30,
   "id": "fbd20973",
   "metadata": {},
   "outputs": [
    {
     "data": {
      "text/plain": [
       "SVC()"
      ]
     },
     "execution_count": 30,
     "metadata": {},
     "output_type": "execute_result"
    }
   ],
   "source": [
    "svm.fit(X_train, y_train)"
   ]
  },
  {
   "cell_type": "code",
   "execution_count": 31,
   "id": "b4cab551",
   "metadata": {},
   "outputs": [],
   "source": [
    "y_train_pred = svm.predict(X_train)"
   ]
  },
  {
   "cell_type": "code",
   "execution_count": 32,
   "id": "a6fd5fd2",
   "metadata": {},
   "outputs": [
    {
     "name": "stdout",
     "output_type": "stream",
     "text": [
      "Training Set Report:\n",
      "              precision    recall  f1-score   support\n",
      "\n",
      " non-suicide       0.98      0.98      0.98      3161\n",
      "     suicide       0.98      0.98      0.98      3138\n",
      "\n",
      "    accuracy                           0.98      6299\n",
      "   macro avg       0.98      0.98      0.98      6299\n",
      "weighted avg       0.98      0.98      0.98      6299\n"
     ]
    }
   ],
   "source": [
    "train_report = classification_report(y_train, y_train_pred)\n",
    "print(\"Training Set Report:\")\n",
    "print(train_report)"
   ]
  },
  {
   "cell_type": "code",
   "execution_count": 33,
   "id": "430e5156",
   "metadata": {},
   "outputs": [],
   "source": [
    "y_test_pred = svm.predict(X_test)"
   ]
  },
  {
   "cell_type": "code",
   "execution_count": 34,
   "id": "05344445",
   "metadata": {},
   "outputs": [
    {
     "name": "stdout",
     "output_type": "stream",
     "text": [
      "Test Set Report:\n",
      "              precision    recall  f1-score   support\n",
      "\n",
      " non-suicide       0.89      0.93      0.91      1387\n",
      "     suicide       0.93      0.88      0.90      1313\n",
      "\n",
      "    accuracy                           0.91      2700\n",
      "   macro avg       0.91      0.91      0.91      2700\n",
      "weighted avg       0.91      0.91      0.91      2700\n"
     ]
    }
   ],
   "source": [
    "test_report = classification_report(y_test, y_test_pred)\n",
    "print(\"Test Set Report:\")\n",
    "print(test_report)"
   ]
  },
  {
   "cell_type": "code",
   "execution_count": 35,
   "id": "670f1d0d",
   "metadata": {},
   "outputs": [
    {
     "name": "stdout",
     "output_type": "stream",
     "text": [
      "SVC Model Parameters:\n",
      "{'C': 1.0, 'break_ties': False, 'cache_size': 200, 'class_weight': None, 'coef0': 0.0, 'decision_function_shape': 'ovr', 'degree': 3, 'gamma': 'scale', 'kernel': 'rbf', 'max_iter': -1, 'probability': False, 'random_state': None, 'shrinking': True, 'tol': 0.001, 'verbose': False}\n"
     ]
    }
   ],
   "source": [
    "print(\"SVC Model Parameters:\")\n",
    "print(svm.get_params())"
   ]
  },
  {
   "cell_type": "markdown",
   "id": "2ea5ee45",
   "metadata": {},
   "source": [
    "*Precision: Precision is the ratio of true positive predictions to the total number of positive predictions. It measures the accuracy of positive predictions. Higher precision indicates fewer false positives. Precision is calculated for each class label.\n",
    "\n",
    "*Recall (also known as sensitivity or true positive rate): Recall is the ratio of true positive predictions to the total number of actual positive instances. It measures the ability of the model to correctly identify positive instances. Higher recall indicates fewer false negatives. Recall is calculated for each class label.\n",
    "\n",
    "*F1-score: The F1-score is the harmonic mean of precision and recall. It provides a balanced measure that takes both precision and recall into account. It is especially useful when you have imbalanced class distributions.\n",
    "\n",
    "*Support: Support is the number of actual occurrences of each class in the test set. It represents the number of samples in the true response that have the corresponding class."
   ]
  },
  {
   "cell_type": "markdown",
   "id": "26b0aed0",
   "metadata": {},
   "source": [
    "## Saving models"
   ]
  },
  {
   "cell_type": "code",
   "execution_count": 36,
   "id": "da59678d",
   "metadata": {},
   "outputs": [],
   "source": [
    "with open('VOTING_CLASSIFIER_model.pkl', 'wb') as f:\n",
    "    pickle.dump(VotingClassifiers, f) "
   ]
  },
  {
   "cell_type": "code",
   "execution_count": 37,
   "id": "e014dc4b",
   "metadata": {},
   "outputs": [],
   "source": [
    "with open('SVC_model.pkl', 'wb') as f:\n",
    "    pickle.dump(svm, f) "
   ]
  },
  {
   "cell_type": "markdown",
   "id": "f5fd81c5",
   "metadata": {},
   "source": [
    "# Example"
   ]
  },
  {
   "cell_type": "code",
   "execution_count": 38,
   "id": "e7d0704d",
   "metadata": {},
   "outputs": [],
   "source": [
    "def preprocess(inp):\n",
    "    inp = inp.lower() #convert to lower case \n",
    "    inp = inp.replace(r'[^\\w\\s]+', '') #remove punctuations\n",
    "    inp = [word for word in inp.split() if word not in (stop_words)] #tokenize the sentence\n",
    "    inp = ' '.join([ps.stem(i) for i in inp]) #stremming\n",
    "    inputToModel = vectorizer.transform([inp]).toarray() #transform to vector form\n",
    "    return inputToModel"
   ]
  },
  {
   "cell_type": "code",
   "execution_count": 39,
   "id": "cf68415f",
   "metadata": {},
   "outputs": [],
   "source": [
    "def app(input_text):\n",
    "    # Define the input text box\n",
    "    print('Input : ',input_text) #take input from user\n",
    "    processed_array = preprocess(input_text) #preprocess the text \n",
    "    predict = svm.predict(processed_array) #Model prediction\n",
    "    print('Prediction : ', predict[0])"
   ]
  },
  {
   "cell_type": "code",
   "execution_count": 40,
   "id": "692e8e32",
   "metadata": {},
   "outputs": [
    {
     "name": "stdout",
     "output_type": "stream",
     "text": [
      "Input :  i am tired of my life i want to end my life\n",
      "Prediction :  suicide\n"
     ]
    }
   ],
   "source": [
    "app('i am tired of my life i want to end my life')"
   ]
  },
  {
   "cell_type": "code",
   "execution_count": 41,
   "id": "8d4069a8",
   "metadata": {},
   "outputs": [
    {
     "name": "stdout",
     "output_type": "stream",
     "text": [
      "Input :  I am feeling soo well\n",
      "Prediction :  non-suicide\n"
     ]
    }
   ],
   "source": [
    "app('I am feeling soo well')"
   ]
  }
 ],
 "metadata": {
  "kernelspec": {
   "display_name": "Python 3 (ipykernel)",
   "language": "python",
   "name": "python3"
  },
  "language_info": {
   "codemirror_mode": {
    "name": "ipython",
    "version": 3
   },
   "file_extension": ".py",
   "mimetype": "text/x-python",
   "name": "python",
   "nbconvert_exporter": "python",
   "pygments_lexer": "ipython3",
   "version": "3.9.13"
  }
 },
 "nbformat": 4,
 "nbformat_minor": 5
}
